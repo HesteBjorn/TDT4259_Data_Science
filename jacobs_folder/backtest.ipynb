{
 "cells": [
  {
   "cell_type": "markdown",
   "metadata": {},
   "source": [
    "# Testing our three models\n",
    "\n",
    "## Imports"
   ]
  },
  {
   "cell_type": "code",
   "execution_count": 1,
   "metadata": {},
   "outputs": [],
   "source": [
    "from sklearn.model_selection import TimeSeriesSplit\n",
    "import numpy as np\n",
    "import pandas as pd\n",
    "import matplotlib.pyplot as plt\n",
    "from statsmodels.graphics.tsaplots import plot_acf, plot_pacf\n",
    "from statsmodels.tsa.seasonal import seasonal_decompose\n",
    "from datetime import timedelta\n",
    "import plotly.express as px\n",
    "from IPython.display import display\n",
    "from sklearn.linear_model import LinearRegression\n",
    "from collections.abc import Callable\n",
    "from prophet import Prophet\n",
    "import xgboost as xgb"
   ]
  },
  {
   "cell_type": "code",
   "execution_count": 2,
   "metadata": {},
   "outputs": [],
   "source": [
    "#############\n",
    "# Needed to suppress prophet output\n",
    "import logging\n",
    "logger = logging.getLogger('cmdstanpy')\n",
    "logger.addHandler(logging.NullHandler())\n",
    "logger.propagate = False\n",
    "logger.setLevel(logging.CRITICAL)\n",
    "#############"
   ]
  },
  {
   "cell_type": "markdown",
   "metadata": {},
   "source": [
    "## Fetching data"
   ]
  },
  {
   "cell_type": "code",
   "execution_count": 3,
   "metadata": {},
   "outputs": [],
   "source": [
    "df = pd.read_csv(\"../consumption_temp.csv\")\n",
    "# Convert dftypes\n",
    "df[\"time\"] = pd.to_datetime(df[\"time\"])\n",
    "df[\"consumption\"] = pd.to_numeric(df[\"consumption\"])\n",
    "df[\"temperature\"] = pd.to_numeric(df[\"temperature\"])"
   ]
  },
  {
   "cell_type": "markdown",
   "metadata": {},
   "source": [
    "## Time-series split cross validation evaluation criteria"
   ]
  },
  {
   "cell_type": "code",
   "execution_count": 4,
   "metadata": {},
   "outputs": [],
   "source": [
    "\n",
    "def time_series_split_validation(df, model_callback: Callable[[pd.DataFrame, pd.DataFrame], pd.DataFrame]):\n",
    "    print(\"Evaluating\", model_callback.__name__)\n",
    "\n",
    "    df = df.copy()\n",
    "\n",
    "    ret = pd.DataFrame()\n",
    "\n",
    "    num_days = 30\n",
    "\n",
    "    for loc in df.location.unique():\n",
    "        print(\"Evaluating location\", loc)\n",
    "        tdf = df[df.location == loc][:-22] # needs to eliminate the last day with only 22 hrs to get full day tests\n",
    "        tscv = TimeSeriesSplit(n_splits=num_days, gap=14, test_size=24) # gap=14 eliminates hours 10-23 of day before forecast\n",
    "\n",
    "        counter = 1\n",
    "        print(\"Forecast progress\", end=\"\")\n",
    "        for split_tuple in tscv.split(tdf):\n",
    "            print(\" \" + str(counter), end=\"\")\n",
    "            counter+=1\n",
    "\n",
    "            fcst = model_callback(tdf.iloc[split_tuple[0]], tdf.iloc[split_tuple[1]])\n",
    "            \n",
    "            mape = (abs(fcst.consumption - fcst.yhat) / fcst.consumption).mean() * 100\n",
    "            mae = (abs(fcst.consumption - fcst.yhat)).mean()\n",
    "            \n",
    "            fcst_date = fcst.time.dt.date.iloc[0]\n",
    "\n",
    "            ret = pd.concat([ret, pd.DataFrame(data={'location': loc, 'forecast_date': fcst_date, 'mape': mape, 'mae': mae}, index=[0])])\n",
    "        print()\n",
    "\n",
    "    return ret.reset_index(drop=True)\n",
    "            \n",
    "            "
   ]
  },
  {
   "cell_type": "markdown",
   "metadata": {},
   "source": [
    "## Model format"
   ]
  },
  {
   "cell_type": "code",
   "execution_count": 5,
   "metadata": {},
   "outputs": [],
   "source": [
    "# all models will be in the following format\n",
    "def naive_model(df, future):\n",
    "    \"\"\" df and future already filtered by location \"\"\"\n",
    "    df = df.copy()\n",
    "    future = future.copy()\n",
    "    \n",
    "    mean = df.consumption.mean()\n",
    "    future['yhat'] = mean\n",
    "\n",
    "    return future"
   ]
  },
  {
   "cell_type": "code",
   "execution_count": 6,
   "metadata": {},
   "outputs": [],
   "source": [
    "for loc in df.location.unique():\n",
    "    filtered_df = df[df.location == loc]\n",
    "    fcst = naive_model(filtered_df.iloc[:-24], filtered_df.iloc[-24:])\n",
    "    # display(fcst)\n",
    "    # print(fcst.time.dt.date.iloc[0])"
   ]
  },
  {
   "cell_type": "markdown",
   "metadata": {},
   "source": [
    "## Linear regression"
   ]
  },
  {
   "cell_type": "code",
   "execution_count": 7,
   "metadata": {},
   "outputs": [],
   "source": [
    "\n",
    "def linear_model(df, future):\n",
    "    df = df.copy()\n",
    "    future = future.copy()\n",
    "    \n",
    "    model = LinearRegression()\n",
    "\n",
    "    # Fit the model to the training data\n",
    "    model.fit(df.temperature.values.reshape(-1, 1), df.consumption.values.reshape(-1, 1))\n",
    "\n",
    "    # Make predictions on the test data\n",
    "    y_pred = model.predict(future.temperature.values.reshape(-1, 1))\n",
    "    future['yhat'] = y_pred\n",
    "\n",
    "    return future"
   ]
  },
  {
   "cell_type": "markdown",
   "metadata": {},
   "source": [
    "## Prophet"
   ]
  },
  {
   "cell_type": "code",
   "execution_count": 8,
   "metadata": {},
   "outputs": [],
   "source": [
    "\n",
    "def prophet_model(df, future):\n",
    "    df = df.copy()\n",
    "    future = future.copy()\n",
    "    \n",
    "    model = Prophet()\n",
    "    model.add_regressor('temperature')\n",
    "    model.fit(df.rename(columns={'time': 'ds', 'consumption': 'y'}))\n",
    "\n",
    "    # Make predictions on the test data\n",
    "    y_pred = model.predict(future.rename(columns={'time': 'ds'})).yhat.values\n",
    "    future['yhat'] = y_pred\n",
    "\n",
    "    return future"
   ]
  },
  {
   "cell_type": "markdown",
   "metadata": {},
   "source": [
    "## XGBoost"
   ]
  },
  {
   "cell_type": "code",
   "execution_count": 9,
   "metadata": {},
   "outputs": [],
   "source": [
    "\n",
    "def xgboost_model(df, future):\n",
    "    df = df.copy()\n",
    "    future = future.copy()\n",
    "\n",
    "    # creating time series features (chatgpt suggestions)\n",
    "    df['year'] = df['time'].dt.year\n",
    "    df['month'] = df['time'].dt.month\n",
    "    df['day'] = df['time'].dt.day\n",
    "    df['hour'] = df['time'].dt.hour\n",
    "    df['day_of_week'] = df['time'].dt.dayofweek\n",
    "    df['day_of_year'] = df['time'].dt.dayofyear\n",
    "    df['hour_sin'] = np.sin(2 * np.pi * df['hour'] / 24)\n",
    "    df['hour_cos'] = np.cos(2 * np.pi * df['hour'] / 24)\n",
    "\n",
    "    future['year'] = future['time'].dt.year\n",
    "    future['month'] = future['time'].dt.month\n",
    "    future['day'] = future['time'].dt.day\n",
    "    future['hour'] = future['time'].dt.hour\n",
    "    future['day_of_week'] = future['time'].dt.dayofweek\n",
    "    future['day_of_year'] = future['time'].dt.dayofyear\n",
    "    future['hour_sin'] = np.sin(2 * np.pi * future['hour'] / 24)\n",
    "    future['hour_cos'] = np.cos(2 * np.pi * future['hour'] / 24)\n",
    "\n",
    "    # Create and train an XGBoost model\n",
    "    # Standard hyperparameters for prototyping, no gridsearch or similar\n",
    "    model = xgb.XGBRegressor(\n",
    "        n_estimators=1000,\n",
    "        max_depth=5,\n",
    "        learning_rate=0.1,\n",
    "        objective=\"reg:absoluteerror\", #\"reg:squarederror\",\n",
    "        random_state=42,\n",
    "    )\n",
    "    X = df[['temperature', 'year', 'month', 'day', 'hour', 'day_of_week', 'day_of_year', 'hour_sin', 'hour_cos']]\n",
    "    y = df['consumption']\n",
    "    model.fit(X, y)\n",
    "\n",
    "    # Make predictions on the test set\n",
    "    X_test = future[['temperature', 'year', 'month', 'day', 'hour', 'day_of_week', 'day_of_year', 'hour_sin', 'hour_cos']]\n",
    "    y_pred = model.predict(X_test)\n",
    "\n",
    "    future['yhat'] = y_pred\n",
    "\n",
    "    return future[['time', 'location', 'consumption', 'temperature', 'yhat']]\n",
    "\n"
   ]
  },
  {
   "cell_type": "markdown",
   "metadata": {},
   "source": [
    "## Evaluation"
   ]
  },
  {
   "cell_type": "code",
   "execution_count": 10,
   "metadata": {},
   "outputs": [
    {
     "name": "stdout",
     "output_type": "stream",
     "text": [
      "Evaluating naive_model\n",
      "Evaluating location bergen\n",
      "Forecast progress 1 2 3 4 5 6 7 8 9 10 11 12 13 14 15 16 17 18 19 20 21 22 23 24 25 26 27 28 29 30\n",
      "Evaluating location oslo\n",
      "Forecast progress 1 2 3 4 5 6 7 8 9 10 11 12 13 14 15 16 17 18 19 20 21 22 23 24 25 26 27 28 29 30\n",
      "Evaluating location stavanger\n",
      "Forecast progress 1 2 3 4 5 6 7 8 9 10 11 12 13 14 15 16 17 18 19 20 21 22 23 24 25 26 27 28 29 30\n",
      "Evaluating location tromsø\n",
      "Forecast progress 1 2 3 4 5 6 7 8 9 10 11 12 13 14 15 16 17 18 19 20 21 22 23 24 25 26 27 28 29 30\n",
      "Evaluating location trondheim\n",
      "Forecast progress 1 2 3 4 5 6 7 8 9 10 11 12 13 14 15 16 17 18 19 20 21 22 23 24 25 26 27 28 29 30\n",
      "Evaluating location helsingfors\n",
      "Forecast progress 1 2 3 4 5 6 7 8 9 10 11 12 13 14 15 16 17 18 19 20 21 22 23 24 25 26 27 28 29 30\n",
      "Evaluating linear_model\n",
      "Evaluating location bergen\n",
      "Forecast progress 1 2 3 4 5 6 7 8 9 10 11 12 13 14 15 16 17 18 19 20 21 22 23 24 25 26 27 28 29 30\n",
      "Evaluating location oslo\n",
      "Forecast progress 1 2 3 4 5 6 7 8 9 10 11 12 13 14 15 16 17 18 19 20 21 22 23 24 25 26 27 28 29 30\n",
      "Evaluating location stavanger\n",
      "Forecast progress 1 2 3 4 5 6 7 8 9 10 11 12 13 14 15 16 17 18 19 20 21 22 23 24 25 26 27 28 29 30\n",
      "Evaluating location tromsø\n",
      "Forecast progress 1 2 3 4 5 6 7 8 9 10 11 12 13 14 15 16 17 18 19 20 21 22 23 24 25 26 27 28 29 30\n",
      "Evaluating location trondheim\n",
      "Forecast progress 1 2 3 4 5 6 7 8 9 10 11 12 13 14 15 16 17 18 19 20 21 22 23 24 25 26 27 28 29 30\n",
      "Evaluating location helsingfors\n",
      "Forecast progress 1 2 3 4 5 6 7 8 9 10 11 12 13 14 15 16 17 18 19 20 21 22 23 24 25 26 27 28 29 30\n",
      "Evaluating prophet_model\n",
      "Evaluating location bergen\n",
      "Forecast progress 1 2 3 4 5 6 7 8 9 10 11 12 13 14 15 16 17 18 19 20 21 22 23 24 25 26 27 28 29 30\n",
      "Evaluating location oslo\n",
      "Forecast progress 1 2 3 4 5 6 7 8 9 10 11 12 13 14 15 16 17 18 19 20 21 22 23 24 25 26 27 28 29 30\n",
      "Evaluating location stavanger\n",
      "Forecast progress 1 2 3 4 5 6 7 8 9 10 11 12 13 14 15 16 17 18 19 20 21 22 23 24 25 26 27 28 29 30\n",
      "Evaluating location tromsø\n",
      "Forecast progress 1 2 3 4 5 6 7 8 9 10 11 12 13 14 15 16 17 18 19 20 21 22 23 24 25 26 27 28 29 30\n",
      "Evaluating location trondheim\n",
      "Forecast progress 1 2 3 4 5 6 7 8 9 10 11 12 13 14 15 16 17 18 19 20 21 22 23 24 25 26 27 28 29 30\n",
      "Evaluating location helsingfors\n",
      "Forecast progress 1 2 3 4 5 6 7 8 9 10 11 12 13 14 15 16 17 18 19 20 21 22 23 24 25 26 27 28 29 30\n",
      "Evaluating xgboost_model\n",
      "Evaluating location bergen\n",
      "Forecast progress 1 2 3 4 5 6 7 8 9 10 11 12 13 14 15 16 17 18 19 20 21 22 23 24 25 26 27 28 29 30\n",
      "Evaluating location oslo\n",
      "Forecast progress 1 2 3 4 5 6 7 8 9 10 11 12 13 14 15 16 17 18 19 20 21 22 23 24 25 26 27 28 29 30\n",
      "Evaluating location stavanger\n",
      "Forecast progress 1 2 3 4 5 6 7 8 9 10 11 12 13 14 15 16 17 18 19 20 21 22 23 24 25 26 27 28 29 30\n",
      "Evaluating location tromsø\n",
      "Forecast progress 1 2 3 4 5 6 7 8 9 10 11 12 13 14 15 16 17 18 19 20 21 22 23 24 25 26 27 28 29 30\n",
      "Evaluating location trondheim\n",
      "Forecast progress 1 2 3 4 5 6 7 8 9 10 11 12 13 14 15 16 17 18 19 20 21 22 23 24 25 26 27 28 29 30\n",
      "Evaluating location helsingfors\n",
      "Forecast progress 1 2 3 4 5 6 7 8 9 10 11 12 13 14 15 16 17 18 19 20 21 22 23 24 25 26 27 28 29 30\n"
     ]
    }
   ],
   "source": [
    "out = pd.DataFrame()\n",
    "\n",
    "for model_callback in [naive_model, linear_model, prophet_model, xgboost_model]:\n",
    "    model_name = model_callback.__name__\n",
    "    ret = time_series_split_validation(df, model_callback)[['location', 'mae']]\n",
    "    ret = ret.groupby('location').mean().reset_index()\n",
    "    ret['model'] = model_name\n",
    "    out = pd.concat([out, ret[['location', 'model', 'mae']]])\n"
   ]
  },
  {
   "cell_type": "code",
   "execution_count": null,
   "metadata": {},
   "outputs": [],
   "source": [
    "outcpy = out.copy()\n",
    "outcpy.sort_values('mae', ascending=False, inplace=True)"
   ]
  },
  {
   "cell_type": "code",
   "execution_count": 23,
   "metadata": {},
   "outputs": [
    {
     "data": {
      "image/png": "[encoded data removed]",
      "text/plain": [
       "<Figure size 1600x600 with 1 Axes>"
      ]
     },
     "metadata": {},
     "output_type": "display_data"
    }
   ],
   "source": [
    "# Get unique models and locations\n",
    "models = outcpy['model'].unique()\n",
    "locations = outcpy['location'].unique()\n",
    "\n",
    "# Create a dodged (side-by-side) bar plot\n",
    "fig, ax = plt.subplots(figsize=(16, 6))\n",
    "\n",
    "bar_width = 0.15\n",
    "bar_positions = range(len(models))\n",
    "\n",
    "for i, location in enumerate(locations):\n",
    "    location_data = outcpy[outcpy['location'] == location]\n",
    "    x_values = [pos + i * bar_width for pos in bar_positions]\n",
    "    y_values = location_data['mae']\n",
    "    \n",
    "    ax.bar(x_values, y_values, width=bar_width, label=location)\n",
    "\n",
    "ax.set_xticks([pos + (bar_width * (len(locations) - 1) / 2) for pos in bar_positions])\n",
    "ax.set_xticklabels(models)\n",
    "ax.set_xlabel('Model')\n",
    "ax.set_ylabel('MAE')\n",
    "ax.set_title('Dodged (Side-by-Side) Barplot')\n",
    "plt.legend(title='Location')\n",
    "\n",
    "plt.show()"
   ]
  },
  {
   "cell_type": "code",
   "execution_count": 26,
   "metadata": {},
   "outputs": [
    {
     "data": {
      "image/png": "[encoded data removed]",
      "text/plain": [
       "<Figure size 1200x600 with 1 Axes>"
      ]
     },
     "metadata": {},
     "output_type": "display_data"
    }
   ],
   "source": [
    "# Get unique models and locations\n",
    "models = outcpy['model'].unique()\n",
    "locations = outcpy['location'].unique()\n",
    "\n",
    "# Create a dodged (side-by-side) bar plot with 'model' and 'location' switched\n",
    "fig, ax = plt.subplots(figsize=(12, 6))\n",
    "\n",
    "bar_width = 0.15\n",
    "bar_positions = range(len(locations))\n",
    "\n",
    "for i, model in enumerate(models):\n",
    "    model_data = outcpy[outcpy['model'] == model]\n",
    "    x_values = [pos + i * bar_width for pos in bar_positions]\n",
    "    y_values = model_data['mae']\n",
    "    \n",
    "    ax.bar(x_values, y_values, width=bar_width, label=model)\n",
    "\n",
    "ax.set_xticks([pos + (bar_width * (len(models) - 1) / 2) for pos in bar_positions])\n",
    "ax.set_xticklabels(locations)\n",
    "ax.set_xlabel('Location')\n",
    "ax.set_ylabel('MAE')\n",
    "ax.set_title('MAE of each model categorized by location')\n",
    "plt.legend(title='Model')\n",
    "\n",
    "plt.show()"
   ]
  },
  {
   "cell_type": "code",
   "execution_count": null,
   "metadata": {},
   "outputs": [],
   "source": []
  }
 ],
 "metadata": {
  "kernelspec": {
   "display_name": "Python 3",
   "language": "python",
   "name": "python3"
  },
  "language_info": {
   "codemirror_mode": {
    "name": "ipython",
    "version": 3
   },
   "file_extension": ".py",
   "mimetype": "text/x-python",
   "name": "python",
   "nbconvert_exporter": "python",
   "pygments_lexer": "ipython3",
   "version": "3.10.7"
  }
 },
 "nbformat": 4,
 "nbformat_minor": 2
}
